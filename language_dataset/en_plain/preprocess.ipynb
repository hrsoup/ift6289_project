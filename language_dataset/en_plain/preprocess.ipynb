{
 "cells": [
  {
   "cell_type": "code",
   "execution_count": 1,
   "metadata": {},
   "outputs": [
    {
     "name": "stdout",
     "output_type": "stream",
     "text": [
      "28914\n"
     ]
    }
   ],
   "source": [
    "import os\n",
    "import json\n",
    "\n",
    "path = './original_text'\n",
    "files = os.listdir(path)\n",
    "X = []\n",
    "y = []\n",
    "saveFile = open(os.path.join(\"./\", \"en_joke.txt\"), \"w\", encoding='utf-8')\n",
    "file_count = 0\n",
    "joke_count = 0\n",
    "for file in files:\n",
    "    file_count += 1\n",
    "    # Opening JSON file in same directory as python file\n",
    "    f = open(path+'/'+file)\n",
    "    \n",
    "    # returns JSON object as\n",
    "    # a dictionary\n",
    "    data = json.load(f)\n",
    "\n",
    "    # Iterating through the list of jokes\n",
    "    for k in range(len(data)):\n",
    "        sentences_shuffle = []\n",
    "        sentences = []\n",
    "        labels = []\n",
    "        joke = data[k]['body']\n",
    "        if len(joke) == 0:\n",
    "            continue\n",
    "        joke = joke.replace(\"\\n\", \"\")\n",
    "        joke = joke.replace(\"\\r\", \"\")\n",
    "        saveFile.write(joke)\n",
    "        joke_count += 1\n",
    "        if file_count != 3 or k != len(data)-1:\n",
    "            saveFile.write('\\n')\n",
    "\n",
    "print(joke_count)\n",
    "saveFile.close()"
   ]
  },
  {
   "cell_type": "code",
   "execution_count": 1,
   "metadata": {},
   "outputs": [],
   "source": [
    "import os\n",
    "with open('test.txt','a') as file:\n",
    "    print('hahahah\\n',file=file)\n",
    "    print('hahahah\\n',file=file)"
   ]
  }
 ],
 "metadata": {
  "interpreter": {
   "hash": "6542146d8fcb4991884c4018ec7f9b472bcc46a831d46ce7d3a459b0e4f75ed5"
  },
  "kernelspec": {
   "display_name": "Python 3.7.10 64-bit ('hrsoup': conda)",
   "language": "python",
   "name": "python3"
  },
  "language_info": {
   "codemirror_mode": {
    "name": "ipython",
    "version": 3
   },
   "file_extension": ".py",
   "mimetype": "text/x-python",
   "name": "python",
   "nbconvert_exporter": "python",
   "pygments_lexer": "ipython3",
   "version": "3.7.10"
  },
  "orig_nbformat": 4
 },
 "nbformat": 4,
 "nbformat_minor": 2
}
